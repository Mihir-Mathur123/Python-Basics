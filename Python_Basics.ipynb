{
  "nbformat": 4,
  "nbformat_minor": 0,
  "metadata": {
    "colab": {
      "provenance": []
    },
    "kernelspec": {
      "name": "python3",
      "display_name": "Python 3"
    },
    "language_info": {
      "name": "python"
    }
  },
  "cells": [
    {
      "cell_type": "markdown",
      "source": [
        "Q.1) What is Python, and why is it popular?\n",
        "     \n",
        "==)) Python is a high-level, general-purpose programming language. It's design emphasizes code readability with the use of significant indentation.\n",
        "\n",
        "**Why python is so popular?***\n",
        "\n",
        "a)**It's easier to learn***= the python language is designed to be intuitive and readable, which makes it easier learn than most programming languages.\n",
        "\n",
        "b)**It's versatile***= python is a general-purpose language, which means that it can be used across a wide variety of domains and use cases.\n",
        "\n",
        "c)**It has an awesome community***= the python community is diverse and welcoming to all types of people.\n",
        "\n",
        "d)**It's excellent for Data science & machine learning***= python is the language of choice for many data scientists(and analysts, engineers, researchers, and so on) because of its amazing data science libraries, such as pandas, NumPy, and scikit-learn.\n",
        "\n",
        "\n",
        "Q.2) What is an interpreter in Python?\n",
        "     \n",
        "==)) In Python, an interpreter is a program that reads and executes Python code line by line, translating it into machine-readable instructions.\n",
        "\n",
        "\n",
        "Q.3) What are pre-defined keywords in Python?\n",
        "     \n",
        "==)) Keywords in Python are predefined reserved words with special meanings so the interpreter can understand them. They perform specific tasks in Python programming and are a part of its syntax.\n",
        "\n",
        "\n",
        "Q.4) Can keywords be used as variable names?\n",
        "     \n",
        "==)) No, you cannot use keywords as variable names in most programming languages because keywords are reserved words with predefined meanings that the interpreter or compiler uses to understand the structure of the code.\n",
        "\n",
        "\n",
        "Q.5) What is mutability in Python?\n",
        "     \n",
        "==)) In Python, mutability refers to an object's ability to be changed or modified after it's created, with mutable objects allowing in-place modifications, while immutable objects require creating new objects for any changes. Explanation:\n",
        "\n",
        "--**Lists***= You can add, remove, or modify elements within a list after it's created.\n",
        "\n",
        "--**Integers,Floats,Strings,Tuples,Booleans***= Once created, these cannot be changed, attempting to modify them will create a new object.\n",
        "\n",
        "\n",
        "Q.6) Why are lists mutable, but tuples are immutable?\n",
        "     \n",
        "==)) **Lists***= Designed for collections of items that may need modification during program execution. Their mutability supports operations like adding, removing, or changing elements, making them suitable for dynamic data sets.\n",
        "\n",
        "**Tuples***= Intended for fixed collections of items that should remain constant. Their immutability ensures data integrity, making them ideal for representing fixed configurations or heterogeneous data that should not be altered.\n",
        "\n",
        "So lists are mutable and tuples are immutable.\n",
        "\n",
        "\n",
        "Q.7) What is the difference between \"==\" and \"is\" operators in Python?\n",
        "     \n",
        "==)) In Python, == checks for value equality (if two objects have the same value), while is checks for object identity(if two variables point to the same object in memory).\n",
        "\n",
        "== (Equality Operator):\n",
        "\n",
        "compares the values of two objects.\n",
        "\n",
        "Returns True if the values are the same, False otherwise.\n",
        "\n",
        "Example: 1 == 1 is True, and 1 == 2 is False.\n",
        "\n",
        "Example: [1,2]; == [1,2] is True (because they have the same values).\n",
        "\n",
        "is (Identity Operator):\n",
        "\n",
        "Checks if two variables refer to the same object in memory.\n",
        "\n",
        "Returns True if the variables point to the same object, False otherwise.\n",
        "\n",
        "Example: a = [1,2],b = a,a is b is True (because a and b point to the same list object).\n",
        "\n",
        "Example: a = [1,2];b = [1,2]; a is b is False (because they are different objects with the same values).\n",
        "\n",
        "\n",
        "Q.8) What are logical operators in Python?\n",
        "     \n",
        "==)) In Python, logical operators, also known as Boolean operators, are used to combine or modify conditions and return a Boolean value (True or False). The main logical operators are **and,or,*** and **not***.\n",
        "\n",
        "\n",
        "Q.9) What is type casting in Python?\n",
        "     \n",
        "==)) In Python, type casting (also known as type conversion) is the process of converting a variable's data type from one type to another, like converting an integer to a float or a string to an integer.\n",
        "\n",
        "\n",
        "Q.10) What is the difference between implicit and explicit type casting?\n",
        "     \n",
        "==)) In Python, implicit type casting (conversion) happens automatically by the interpreter, while explicit type casting (or type conversion) requires the programmer to use built-in functions like int(), float(), or str() to convert data types.\n",
        "\n",
        "Implicit Type Conversion= The python interpreter automatically converts a data type to another when it's necessary, without any explicit instruction from the programmer.\n",
        "\n",
        "x = 5\n",
        "\n",
        "y = 2.5\n",
        "\n",
        "z = x + y # x (int) is implicitly converted to float to perform the addition\n",
        "\n",
        "print(z) # Output: 7.5\n",
        "\n",
        "Explicit Type Conversion(Type Casting)= The programmer uses built-in functions to convert a variable from one data type to another.\n",
        "\n",
        "x = \"10\"\n",
        "\n",
        "y = int(x) # Explicitly convert the string \"10\" to an integer\n",
        "\n",
        "print(y) # Output: 10\n",
        "\n",
        "\n",
        "Q.11) What is the purpose of conditional statements in Python?\n",
        "     \n",
        "==)) Conditional statements in Python, like if, elif, else and nested if else allow programs to execute different blocks of code based on whether a condition is true or false, enabling dynamic and responsive behavior.\n",
        "\n",
        "\n",
        "Q.12) How does the elif statement work?\n",
        "     \n",
        "==)) The \"elif\" keyword in Python, stands for \"else if\". It can be used in conditional statements to check for multiple conditions. For example, if the first condition is false, it moves on to the next \"elif\" statement to check if that condition is true.\n",
        "\n",
        "if-else:\n",
        "\n",
        "weather = \"rainy\"\n",
        "\n",
        "if weather == \"rainy\":\n",
        "\n",
        "print(\"I will not play cricket\")\n",
        "\n",
        "else:\n",
        "\n",
        "print(\"I will watch TV\")\n",
        "\n",
        "Output#: 'I will watch TV'\n",
        "\n",
        "\n",
        "Q.13) What is the difference between for and while loops?\n",
        "\n",
        "     \n",
        "==)) In Python, both for and while loops are used to execute a block of code repeatedly, but they differ in their structure and typical use cases:\n",
        "\n",
        "**While Loop*** repeatedly executed a block of code untill a condition is met.\n",
        "\n",
        "**For Loop*** iterate overa sequence of elements.\n",
        "\n",
        "\n",
        "Q.14) Describe a scenario where a while loop is more suitable than a for loop.\n",
        "     \n",
        "==)) for loop is usually better when we want a piece of code to run a certain number of times, and a while loop is better when the condition for the code to keep running is more general, such as having a boolean flag that is only set to true when a certain condition is met in the code block."
      ],
      "metadata": {
        "id": "bAxYVFGolLY_"
      }
    },
    {
      "cell_type": "markdown",
      "source": [
        "Practical Questions"
      ],
      "metadata": {
        "id": "TDUuY2-Olas5"
      }
    },
    {
      "cell_type": "markdown",
      "source": [
        "Q.1) Write a Python program to print \"Hello, World!\"\n",
        "     "
      ],
      "metadata": {
        "id": "3X4SzRRPllmJ"
      }
    },
    {
      "cell_type": "code",
      "source": [
        "print(\"Hello, world!\")"
      ],
      "metadata": {
        "colab": {
          "base_uri": "https://localhost:8080/"
        },
        "id": "HnKCvpPalpxy",
        "outputId": "ccc58709-59c6-477b-96e6-e8dca1aeb35b"
      },
      "execution_count": 4,
      "outputs": [
        {
          "output_type": "stream",
          "name": "stdout",
          "text": [
            "Hello, world!\n"
          ]
        }
      ]
    },
    {
      "cell_type": "markdown",
      "source": [
        "Q.2) Write a Python program that displays your name and age"
      ],
      "metadata": {
        "id": "x4VoCRtXmEke"
      }
    },
    {
      "cell_type": "code",
      "source": [
        "name=\"Mihir\"\n",
        "age=\"23\"\n",
        "print(\"(Name:\", name)\n",
        "print(\"Age:\", age)"
      ],
      "metadata": {
        "colab": {
          "base_uri": "https://localhost:8080/"
        },
        "id": "400ypi_bmGyc",
        "outputId": "cb80d25d-aa9b-4ef5-fdbe-af183b6b5198"
      },
      "execution_count": 10,
      "outputs": [
        {
          "output_type": "stream",
          "name": "stdout",
          "text": [
            "(Name: Mihir\n",
            "Age: 23\n"
          ]
        }
      ]
    },
    {
      "cell_type": "markdown",
      "source": [
        "Q.3) Write code to print all the pre-defined keywords in Python using the keyword library."
      ],
      "metadata": {
        "id": "KKVFt92qm30M"
      }
    },
    {
      "cell_type": "code",
      "source": [
        "help('keywords')"
      ],
      "metadata": {
        "colab": {
          "base_uri": "https://localhost:8080/"
        },
        "id": "9XZsaawrm8yd",
        "outputId": "4c62ddc4-4965-48f6-f77d-fe3e420de5bb"
      },
      "execution_count": 11,
      "outputs": [
        {
          "output_type": "stream",
          "name": "stdout",
          "text": [
            "\n",
            "Here is a list of the Python keywords.  Enter any keyword to get more help.\n",
            "\n",
            "False               class               from                or\n",
            "None                continue            global              pass\n",
            "True                def                 if                  raise\n",
            "and                 del                 import              return\n",
            "as                  elif                in                  try\n",
            "assert              else                is                  while\n",
            "async               except              lambda              with\n",
            "await               finally             nonlocal            yield\n",
            "break               for                 not                 \n",
            "\n"
          ]
        }
      ]
    },
    {
      "cell_type": "markdown",
      "source": [
        "Q.4) Write a program that checks if a given word is a Python keyword."
      ],
      "metadata": {
        "id": "G4vmeI2LnESb"
      }
    },
    {
      "cell_type": "code",
      "source": [
        "import keyword\n",
        "\n",
        "# Get input from the user\n",
        "word = input(\"Enter a word to check if it's a Python keyword: \")\n",
        "\n",
        "# Check if the word is a Python keyword\n",
        "if keyword.iskeyword(word):\n",
        "    print(f\"'{word}' is a Python keyword.\")\n",
        "else:\n",
        "    print(f\"'{word}' is not a Python keyword.\")\n"
      ],
      "metadata": {
        "id": "KgX29d21nXm9"
      },
      "execution_count": null,
      "outputs": []
    },
    {
      "cell_type": "markdown",
      "source": [
        "Q.5) Create a list and tuple in Python, and demonstrate how attempting to change an element works differently for each."
      ],
      "metadata": {
        "id": "QhmP-pf6na_v"
      }
    },
    {
      "cell_type": "code",
      "source": [
        "# Creating a list and a tuple\n",
        "my_list = [1, 2, 3]\n",
        "my_tuple = (1, 2, 3)\n",
        "\n",
        "# Changing an element in the list\n",
        "print(\"Original list:\", my_list)\n",
        "my_list[0] = 10\n",
        "print(\"Modified list:\", my_list)\n",
        "\n",
        "# Attempting to change an element in the tuple\n",
        "print(\"Original tuple:\", my_tuple)\n",
        "try:\n",
        "    my_tuple[0] = 10\n",
        "except TypeError as e:\n"
      ],
      "metadata": {
        "id": "-EuI6U1Inbxt"
      },
      "execution_count": null,
      "outputs": []
    },
    {
      "cell_type": "markdown",
      "source": [
        "Q.6) Write a function to demonstrate the behavior of mutable and immutable arguments."
      ],
      "metadata": {
        "id": "JxRko-Q4nf6-"
      }
    },
    {
      "cell_type": "code",
      "source": [
        "def modify_immutable(value):\n",
        "    print(f\"Original value in function: {value}\")\n",
        "    value += 5\n",
        "    print(f\"Modified value in function: {value}\")\n",
        "\n",
        "number = 10\n",
        "modify_immutable(number)\n",
        "print(f\"Value after function call: {number}\")"
      ],
      "metadata": {
        "colab": {
          "base_uri": "https://localhost:8080/"
        },
        "id": "ZHR8qItBnrgf",
        "outputId": "768fce23-2e75-4d35-9f85-3486ac624272"
      },
      "execution_count": 13,
      "outputs": [
        {
          "output_type": "stream",
          "name": "stdout",
          "text": [
            "Original value in function: 10\n",
            "Modified value in function: 15\n",
            "Value after function call: 10\n"
          ]
        }
      ]
    },
    {
      "cell_type": "markdown",
      "source": [
        "Q.7) Write a program that performs basic arithmetic operations on two user-input numbers"
      ],
      "metadata": {
        "id": "bwJxwb_OnuyB"
      }
    },
    {
      "cell_type": "code",
      "source": [
        "def main():\n",
        "    print(\"Welcome to Basic Operations Calculator!\")\n",
        "    num1 = float(input(\"Enter the first number: \"))\n",
        "    num2 = float(input(\"Enter the second number: \"))\n",
        "\n",
        "    addition = num1 + num2\n",
        "    subtraction = num1 - num2\n",
        "    multiplication = num1 * num2\n",
        "    if num2 != 0:\n",
        "        division = num1 / num2\n",
        "    else:\n",
        "        division = \"Undefined (division by zero)\"\n",
        "\n",
        "    print(f\"Addition: {addition}\")\n",
        "    print(f\"Subtraction: {subtraction}\")\n",
        "    print(f\"Multiplication: {multiplication}\")\n",
        "    print(f\"Division: {division}\")\n",
        "    print(\"Thank you for using the calculator!\")\n",
        "\n",
        "if __name__ == \"__main__\":\n",
        "    main()"
      ],
      "metadata": {
        "colab": {
          "base_uri": "https://localhost:8080/"
        },
        "id": "ASIal14xnxaw",
        "outputId": "4306a6c5-98ee-4682-dc91-c2504fba2542"
      },
      "execution_count": 14,
      "outputs": [
        {
          "output_type": "stream",
          "name": "stdout",
          "text": [
            "Welcome to Basic Operations Calculator!\n",
            "Enter the first number: 10\n",
            "Enter the second number: 20\n",
            "Addition: 30.0\n",
            "Subtraction: -10.0\n",
            "Multiplication: 200.0\n",
            "Division: 0.5\n",
            "Thank you for using the calculator!\n"
          ]
        }
      ]
    },
    {
      "cell_type": "markdown",
      "source": [
        "Q.8) Write a program to demonstrate the use of logical operators."
      ],
      "metadata": {
        "id": "1LnNsg8Nn93x"
      }
    },
    {
      "cell_type": "code",
      "source": [
        "x = 10\n",
        "y = 20\n",
        "z = 5\n",
        "\n",
        "#using 'and' operator\n",
        "if x > 5 and y > 15:\n",
        "   print(\"Both conditions are true\")\n",
        "\n",
        "#using 'or' operator\n",
        "if x > 15 or y > 15:\n",
        "   print(\"At least one condition is true\")\n",
        "\n",
        "#using 'not' operator\n",
        "if not z > 10:\n",
        "   print(\"z is not greater than 10\")\n",
        "\n",
        "#Combining logical operators\n",
        "if (x > 5 and y > 15) or z < 10:\n",
        "   print(\"Complex condition evaluated to true\")"
      ],
      "metadata": {
        "colab": {
          "base_uri": "https://localhost:8080/"
        },
        "id": "_SuZQvxRn_NR",
        "outputId": "e8ca1d31-a02f-417d-fb22-5dcd9cf9d9f3"
      },
      "execution_count": 15,
      "outputs": [
        {
          "output_type": "stream",
          "name": "stdout",
          "text": [
            "Both conditions are true\n",
            "At least one condition is true\n",
            "z is not greater than 10\n",
            "Complex condition evaluated to true\n"
          ]
        }
      ]
    },
    {
      "cell_type": "markdown",
      "source": [
        "Q.9) Write a Python program to convert user input from string to integer, float, and boolean types."
      ],
      "metadata": {
        "id": "59vQ1e7YoFoy"
      }
    },
    {
      "cell_type": "code",
      "source": [
        "def convert_input(user_input):\n",
        "  #convert to integer\n",
        "    try:\n",
        "        integer_value = int(user_input)\n",
        "        print(f\"Integer conversion successful: {integer_value}\")\n",
        "    except ValueError:\n",
        "        print(\"Integer conversion failed\")\n",
        "\n",
        "   #convert to float\n",
        "    try:\n",
        "        float_value = float(user_input)\n",
        "        print(f\"Float conversion successful: {float_value}\")\n",
        "    except ValueError:\n",
        "        print(\"Float conversion failed\")\n",
        "\n",
        "   #convert to boolean\n",
        "    if user_input.lower() in ['true','1','t','y','yes']:\n",
        "       boolean_value = True\n",
        "       print(f\"Boolean conversion successful: {boolean_value}\")\n",
        "    elif user_input.lower() in ['false','0','f','n','no']:\n",
        "       boolean_value = False\n",
        "       print(f\"Boolean conversion successful: {boolean_value}\")\n",
        "    else:\n",
        "       print(\"Boolean conversion failed.\")\n",
        "\n",
        "# Change '_name_' to '__name__'\n",
        "if __name__ == \"__main__\":\n",
        "   user_input = input(\"Enter a value: \")\n",
        "   convert_input(user_input)"
      ],
      "metadata": {
        "colab": {
          "base_uri": "https://localhost:8080/"
        },
        "id": "qBHkTAgpoGX6",
        "outputId": "38567040-5d0e-49a8-d043-64020640858c"
      },
      "execution_count": 16,
      "outputs": [
        {
          "output_type": "stream",
          "name": "stdout",
          "text": [
            "Enter a value: 25\n",
            "Integer conversion successful: 25\n",
            "Float conversion successful: 25.0\n",
            "Boolean conversion failed.\n"
          ]
        }
      ]
    },
    {
      "cell_type": "markdown",
      "source": [
        "Q.10) Write code to demonstrate type casting with list elements.\n",
        "     \n"
      ],
      "metadata": {
        "id": "1tQrJNXIoOiM"
      }
    },
    {
      "cell_type": "code",
      "source": [
        "string_numbers = [\"1\", \"2\", \"3\", \"4\", \"5\"]\n",
        "integer_numbers = [int(num) for num in string_numbers]\n",
        "print(string_numbers)\n",
        "print(integer_numbers)\n"
      ],
      "metadata": {
        "colab": {
          "base_uri": "https://localhost:8080/"
        },
        "id": "VvD3GUDHoPOS",
        "outputId": "88655792-7ba2-4fb1-8ba5-87bd6d4dfaff"
      },
      "execution_count": 17,
      "outputs": [
        {
          "output_type": "stream",
          "name": "stdout",
          "text": [
            "['1', '2', '3', '4', '5']\n",
            "[1, 2, 3, 4, 5]\n"
          ]
        }
      ]
    },
    {
      "cell_type": "markdown",
      "source": [
        "Q.11) Write a program that checks if a number is positive, negative, or zero."
      ],
      "metadata": {
        "id": "CZiukfh_oSak"
      }
    },
    {
      "cell_type": "code",
      "source": [
        "number = float(input(\"Enter a number: \"))\n",
        "if number > 0:\n",
        "    print(\"The number is positive.\")\n",
        "elif number < 0:\n",
        "    print(\"The number is negative.\")\n",
        "else:\n",
        "    print(\"The number is zero.\")"
      ],
      "metadata": {
        "colab": {
          "base_uri": "https://localhost:8080/"
        },
        "id": "wE5tH8JAoUij",
        "outputId": "12fdc722-0c70-43c0-fab8-1219889d8e00"
      },
      "execution_count": 18,
      "outputs": [
        {
          "output_type": "stream",
          "name": "stdout",
          "text": [
            "Enter a number: 10\n",
            "The number is positive.\n"
          ]
        }
      ]
    },
    {
      "cell_type": "markdown",
      "source": [
        "Q.12) Write a for loop to print numbers 1 to 10.\n",
        "     "
      ],
      "metadata": {
        "id": "NCL7G5j1oZeV"
      }
    },
    {
      "cell_type": "code",
      "source": [
        "for i in range(1,11):\n",
        "    print(i)"
      ],
      "metadata": {
        "colab": {
          "base_uri": "https://localhost:8080/"
        },
        "id": "D7RaMxaboaLG",
        "outputId": "a4cad146-6045-4f00-f55c-2f3e201719eb"
      },
      "execution_count": 19,
      "outputs": [
        {
          "output_type": "stream",
          "name": "stdout",
          "text": [
            "1\n",
            "2\n",
            "3\n",
            "4\n",
            "5\n",
            "6\n",
            "7\n",
            "8\n",
            "9\n",
            "10\n"
          ]
        }
      ]
    },
    {
      "cell_type": "markdown",
      "source": [
        "Q.13) Write a Python program to find the sum of all even numbers between 1 to 50.\n",
        "     "
      ],
      "metadata": {
        "id": "kuCLVKrgocpu"
      }
    },
    {
      "cell_type": "code",
      "source": [
        "even_sum = 0\n",
        "for number in range(2, 51, 2):\n",
        "    even_sum += number\n",
        "print(\"Sum of even numbers between 1 and 50:\", even_sum)\n",
        ""
      ],
      "metadata": {
        "colab": {
          "base_uri": "https://localhost:8080/"
        },
        "id": "GfZGuVcboe2n",
        "outputId": "13f896cd-7e4a-4c9f-c932-afd857afa790"
      },
      "execution_count": 20,
      "outputs": [
        {
          "output_type": "stream",
          "name": "stdout",
          "text": [
            "Sum of even numbers between 1 and 50: 650\n"
          ]
        }
      ]
    },
    {
      "cell_type": "markdown",
      "source": [
        "Q.14)Write a program to reverse a string using a while loop."
      ],
      "metadata": {
        "id": "bwD2RiKpoitH"
      }
    },
    {
      "cell_type": "code",
      "source": [
        "if __name__ == \"__main__\":\n",
        "    input_string = input(\"Enter a string: \")\n",
        "    result = \"\"\n",
        "    length = len(input_string)\n",
        "    while length > 0:\n",
        "        result += input_string[length - 1]\n",
        "        length -= 1\n",
        "    print(\"Reversed string:\", result)"
      ],
      "metadata": {
        "colab": {
          "base_uri": "https://localhost:8080/"
        },
        "id": "2LvVjw9hooFt",
        "outputId": "66901f11-af80-4106-8f27-7a2d68ccd2fb"
      },
      "execution_count": 22,
      "outputs": [
        {
          "output_type": "stream",
          "name": "stdout",
          "text": [
            "Enter a string: Hello world\n",
            "Reversed string: dlrow olleH\n"
          ]
        }
      ]
    },
    {
      "cell_type": "markdown",
      "source": [
        "Q.15) Write a Python program to calculate the factorial of a number provided by the user using a while loop.\n",
        "     "
      ],
      "metadata": {
        "id": "qWwQ_Ioyo7cJ"
      }
    },
    {
      "cell_type": "code",
      "source": [
        "number = int(input(\"Enter a number: \"))\n",
        "factorial = 1\n",
        "current = 1\n",
        "while current <= number:\n",
        "    factorial *= current\n",
        "    current += 1\n",
        "print(f\"The factorial of {number} is {factorial}\")"
      ],
      "metadata": {
        "colab": {
          "base_uri": "https://localhost:8080/"
        },
        "id": "MT-OU3tFo8vv",
        "outputId": "e6458c6d-01b1-4a6e-9f19-5c90caf1adc8"
      },
      "execution_count": 23,
      "outputs": [
        {
          "output_type": "stream",
          "name": "stdout",
          "text": [
            "Enter a number: 10\n",
            "The factorial of 10 is 3628800\n"
          ]
        }
      ]
    }
  ]
}